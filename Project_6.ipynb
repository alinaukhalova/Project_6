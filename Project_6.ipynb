{
 "cells": [
  {
   "cell_type": "markdown",
   "id": "4d9ff816-1d23-4f1b-9f37-ce3e604eb095",
   "metadata": {},
   "source": [
    "# Исследование популярности сервиса аренды самокатов GoFast."
   ]
  },
  {
   "cell_type": "markdown",
   "id": "84280260-d797-426d-82d8-a749764720d0",
   "metadata": {},
   "source": [
    "В вашем распоряжении данные сервиса аренды самокатов GoFast — в основных данных есть информация о пользователях из различных городов, их поездках и подписках. В данной работе наша задача проанализировать общие данные и информацию о пользователях и их поездках, узнать, какая категория пользователей (с подпиской или без нее) приносит большую помесячную выручку, а также проверить некоторые гипотезы, которые могут помочь бизнесу по аренде самокатов вырасти."
   ]
  },
  {
   "cell_type": "code",
   "execution_count": 23,
   "id": "22b7b695-7027-4934-a8e6-753d7cc8bc40",
   "metadata": {},
   "outputs": [],
   "source": [
    "import pandas as pd\n",
    "import matplotlib.pyplot as plt\n",
    "import scipy.stats as st"
   ]
  },
  {
   "cell_type": "markdown",
   "id": "359290e8-00ab-4124-b0e0-b3ad632eb891",
   "metadata": {},
   "source": [
    "## Шаг 1. Загрузка данных"
   ]
  },
  {
   "cell_type": "code",
   "execution_count": 24,
   "id": "8b6b5828-f6d0-4c67-97eb-69b263f4f739",
   "metadata": {},
   "outputs": [],
   "source": [
    "users = pd.read_csv('users_go.csv')\n",
    "rides = pd.read_csv('rides_go.csv')\n",
    "subscriptions = pd.read_csv('subscriptions_go.csv')"
   ]
  },
  {
   "cell_type": "code",
   "execution_count": 25,
   "id": "0731a1e3-d045-49c3-98cd-f9070890c5c4",
   "metadata": {},
   "outputs": [
    {
     "data": {
      "text/html": [
       "<div>\n",
       "<style scoped>\n",
       "    .dataframe tbody tr th:only-of-type {\n",
       "        vertical-align: middle;\n",
       "    }\n",
       "\n",
       "    .dataframe tbody tr th {\n",
       "        vertical-align: top;\n",
       "    }\n",
       "\n",
       "    .dataframe thead th {\n",
       "        text-align: right;\n",
       "    }\n",
       "</style>\n",
       "<table border=\"1\" class=\"dataframe\">\n",
       "  <thead>\n",
       "    <tr style=\"text-align: right;\">\n",
       "      <th></th>\n",
       "      <th>user_id</th>\n",
       "      <th>name</th>\n",
       "      <th>age</th>\n",
       "      <th>city</th>\n",
       "      <th>subscription_type</th>\n",
       "    </tr>\n",
       "  </thead>\n",
       "  <tbody>\n",
       "    <tr>\n",
       "      <th>0</th>\n",
       "      <td>1</td>\n",
       "      <td>Кира</td>\n",
       "      <td>22</td>\n",
       "      <td>Тюмень</td>\n",
       "      <td>ultra</td>\n",
       "    </tr>\n",
       "    <tr>\n",
       "      <th>1</th>\n",
       "      <td>2</td>\n",
       "      <td>Станислав</td>\n",
       "      <td>31</td>\n",
       "      <td>Омск</td>\n",
       "      <td>ultra</td>\n",
       "    </tr>\n",
       "    <tr>\n",
       "      <th>2</th>\n",
       "      <td>3</td>\n",
       "      <td>Алексей</td>\n",
       "      <td>20</td>\n",
       "      <td>Москва</td>\n",
       "      <td>ultra</td>\n",
       "    </tr>\n",
       "    <tr>\n",
       "      <th>3</th>\n",
       "      <td>4</td>\n",
       "      <td>Константин</td>\n",
       "      <td>26</td>\n",
       "      <td>Ростов-на-Дону</td>\n",
       "      <td>ultra</td>\n",
       "    </tr>\n",
       "    <tr>\n",
       "      <th>4</th>\n",
       "      <td>5</td>\n",
       "      <td>Адель</td>\n",
       "      <td>28</td>\n",
       "      <td>Омск</td>\n",
       "      <td>ultra</td>\n",
       "    </tr>\n",
       "    <tr>\n",
       "      <th>5</th>\n",
       "      <td>6</td>\n",
       "      <td>Регина</td>\n",
       "      <td>25</td>\n",
       "      <td>Краснодар</td>\n",
       "      <td>ultra</td>\n",
       "    </tr>\n",
       "    <tr>\n",
       "      <th>6</th>\n",
       "      <td>7</td>\n",
       "      <td>Игорь</td>\n",
       "      <td>23</td>\n",
       "      <td>Омск</td>\n",
       "      <td>ultra</td>\n",
       "    </tr>\n",
       "    <tr>\n",
       "      <th>7</th>\n",
       "      <td>8</td>\n",
       "      <td>Юрий</td>\n",
       "      <td>23</td>\n",
       "      <td>Краснодар</td>\n",
       "      <td>ultra</td>\n",
       "    </tr>\n",
       "    <tr>\n",
       "      <th>8</th>\n",
       "      <td>9</td>\n",
       "      <td>Ян</td>\n",
       "      <td>21</td>\n",
       "      <td>Пятигорск</td>\n",
       "      <td>ultra</td>\n",
       "    </tr>\n",
       "    <tr>\n",
       "      <th>9</th>\n",
       "      <td>10</td>\n",
       "      <td>Валерий</td>\n",
       "      <td>18</td>\n",
       "      <td>Екатеринбург</td>\n",
       "      <td>ultra</td>\n",
       "    </tr>\n",
       "  </tbody>\n",
       "</table>\n",
       "</div>"
      ],
      "text/plain": [
       "   user_id        name  age            city subscription_type\n",
       "0        1        Кира   22          Тюмень             ultra\n",
       "1        2   Станислав   31            Омск             ultra\n",
       "2        3     Алексей   20          Москва             ultra\n",
       "3        4  Константин   26  Ростов-на-Дону             ultra\n",
       "4        5       Адель   28            Омск             ultra\n",
       "5        6      Регина   25       Краснодар             ultra\n",
       "6        7       Игорь   23            Омск             ultra\n",
       "7        8        Юрий   23       Краснодар             ultra\n",
       "8        9          Ян   21       Пятигорск             ultra\n",
       "9       10     Валерий   18    Екатеринбург             ultra"
      ]
     },
     "metadata": {},
     "output_type": "display_data"
    },
    {
     "name": "stdout",
     "output_type": "stream",
     "text": [
      "<class 'pandas.core.frame.DataFrame'>\n",
      "RangeIndex: 1565 entries, 0 to 1564\n",
      "Data columns (total 5 columns):\n",
      " #   Column             Non-Null Count  Dtype \n",
      "---  ------             --------------  ----- \n",
      " 0   user_id            1565 non-null   int64 \n",
      " 1   name               1565 non-null   object\n",
      " 2   age                1565 non-null   int64 \n",
      " 3   city               1565 non-null   object\n",
      " 4   subscription_type  1565 non-null   object\n",
      "dtypes: int64(2), object(3)\n",
      "memory usage: 61.3+ KB\n"
     ]
    }
   ],
   "source": [
    "display(users.head(10))\n",
    "users.info()"
   ]
  },
  {
   "cell_type": "code",
   "execution_count": 26,
   "id": "882f8f76-0881-425b-b35e-388401fe11fe",
   "metadata": {},
   "outputs": [
    {
     "data": {
      "text/html": [
       "<div>\n",
       "<style scoped>\n",
       "    .dataframe tbody tr th:only-of-type {\n",
       "        vertical-align: middle;\n",
       "    }\n",
       "\n",
       "    .dataframe tbody tr th {\n",
       "        vertical-align: top;\n",
       "    }\n",
       "\n",
       "    .dataframe thead th {\n",
       "        text-align: right;\n",
       "    }\n",
       "</style>\n",
       "<table border=\"1\" class=\"dataframe\">\n",
       "  <thead>\n",
       "    <tr style=\"text-align: right;\">\n",
       "      <th></th>\n",
       "      <th>user_id</th>\n",
       "      <th>distance</th>\n",
       "      <th>duration</th>\n",
       "      <th>date</th>\n",
       "    </tr>\n",
       "  </thead>\n",
       "  <tbody>\n",
       "    <tr>\n",
       "      <th>0</th>\n",
       "      <td>1</td>\n",
       "      <td>4409.919140</td>\n",
       "      <td>25.599769</td>\n",
       "      <td>2021-01-01</td>\n",
       "    </tr>\n",
       "    <tr>\n",
       "      <th>1</th>\n",
       "      <td>1</td>\n",
       "      <td>2617.592153</td>\n",
       "      <td>15.816871</td>\n",
       "      <td>2021-01-18</td>\n",
       "    </tr>\n",
       "    <tr>\n",
       "      <th>2</th>\n",
       "      <td>1</td>\n",
       "      <td>754.159807</td>\n",
       "      <td>6.232113</td>\n",
       "      <td>2021-04-20</td>\n",
       "    </tr>\n",
       "    <tr>\n",
       "      <th>3</th>\n",
       "      <td>1</td>\n",
       "      <td>2694.783254</td>\n",
       "      <td>18.511000</td>\n",
       "      <td>2021-08-11</td>\n",
       "    </tr>\n",
       "    <tr>\n",
       "      <th>4</th>\n",
       "      <td>1</td>\n",
       "      <td>4028.687306</td>\n",
       "      <td>26.265803</td>\n",
       "      <td>2021-08-28</td>\n",
       "    </tr>\n",
       "    <tr>\n",
       "      <th>5</th>\n",
       "      <td>1</td>\n",
       "      <td>2770.890808</td>\n",
       "      <td>16.650138</td>\n",
       "      <td>2021-10-09</td>\n",
       "    </tr>\n",
       "    <tr>\n",
       "      <th>6</th>\n",
       "      <td>1</td>\n",
       "      <td>3039.020292</td>\n",
       "      <td>14.927879</td>\n",
       "      <td>2021-10-19</td>\n",
       "    </tr>\n",
       "    <tr>\n",
       "      <th>7</th>\n",
       "      <td>1</td>\n",
       "      <td>2842.118050</td>\n",
       "      <td>23.117468</td>\n",
       "      <td>2021-11-06</td>\n",
       "    </tr>\n",
       "    <tr>\n",
       "      <th>8</th>\n",
       "      <td>1</td>\n",
       "      <td>3412.690668</td>\n",
       "      <td>15.238072</td>\n",
       "      <td>2021-11-14</td>\n",
       "    </tr>\n",
       "    <tr>\n",
       "      <th>9</th>\n",
       "      <td>1</td>\n",
       "      <td>748.690645</td>\n",
       "      <td>15.041884</td>\n",
       "      <td>2021-11-22</td>\n",
       "    </tr>\n",
       "    <tr>\n",
       "      <th>10</th>\n",
       "      <td>1</td>\n",
       "      <td>4031.020195</td>\n",
       "      <td>17.674448</td>\n",
       "      <td>2021-12-14</td>\n",
       "    </tr>\n",
       "    <tr>\n",
       "      <th>11</th>\n",
       "      <td>1</td>\n",
       "      <td>2720.609748</td>\n",
       "      <td>9.529463</td>\n",
       "      <td>2021-12-22</td>\n",
       "    </tr>\n",
       "    <tr>\n",
       "      <th>12</th>\n",
       "      <td>2</td>\n",
       "      <td>3105.086678</td>\n",
       "      <td>24.307514</td>\n",
       "      <td>2021-03-15</td>\n",
       "    </tr>\n",
       "    <tr>\n",
       "      <th>13</th>\n",
       "      <td>2</td>\n",
       "      <td>3053.519401</td>\n",
       "      <td>11.543256</td>\n",
       "      <td>2021-03-18</td>\n",
       "    </tr>\n",
       "    <tr>\n",
       "      <th>14</th>\n",
       "      <td>2</td>\n",
       "      <td>4029.116927</td>\n",
       "      <td>25.109188</td>\n",
       "      <td>2021-03-23</td>\n",
       "    </tr>\n",
       "  </tbody>\n",
       "</table>\n",
       "</div>"
      ],
      "text/plain": [
       "    user_id     distance   duration        date\n",
       "0         1  4409.919140  25.599769  2021-01-01\n",
       "1         1  2617.592153  15.816871  2021-01-18\n",
       "2         1   754.159807   6.232113  2021-04-20\n",
       "3         1  2694.783254  18.511000  2021-08-11\n",
       "4         1  4028.687306  26.265803  2021-08-28\n",
       "5         1  2770.890808  16.650138  2021-10-09\n",
       "6         1  3039.020292  14.927879  2021-10-19\n",
       "7         1  2842.118050  23.117468  2021-11-06\n",
       "8         1  3412.690668  15.238072  2021-11-14\n",
       "9         1   748.690645  15.041884  2021-11-22\n",
       "10        1  4031.020195  17.674448  2021-12-14\n",
       "11        1  2720.609748   9.529463  2021-12-22\n",
       "12        2  3105.086678  24.307514  2021-03-15\n",
       "13        2  3053.519401  11.543256  2021-03-18\n",
       "14        2  4029.116927  25.109188  2021-03-23"
      ]
     },
     "metadata": {},
     "output_type": "display_data"
    },
    {
     "name": "stdout",
     "output_type": "stream",
     "text": [
      "<class 'pandas.core.frame.DataFrame'>\n",
      "RangeIndex: 18068 entries, 0 to 18067\n",
      "Data columns (total 4 columns):\n",
      " #   Column    Non-Null Count  Dtype  \n",
      "---  ------    --------------  -----  \n",
      " 0   user_id   18068 non-null  int64  \n",
      " 1   distance  18068 non-null  float64\n",
      " 2   duration  18068 non-null  float64\n",
      " 3   date      18068 non-null  object \n",
      "dtypes: float64(2), int64(1), object(1)\n",
      "memory usage: 564.8+ KB\n"
     ]
    }
   ],
   "source": [
    "display(rides.head(15))\n",
    "rides.info()"
   ]
  },
  {
   "cell_type": "code",
   "execution_count": 27,
   "id": "09bc5f45-9b4c-4acd-821d-20c8c23147f2",
   "metadata": {},
   "outputs": [
    {
     "data": {
      "text/html": [
       "<div>\n",
       "<style scoped>\n",
       "    .dataframe tbody tr th:only-of-type {\n",
       "        vertical-align: middle;\n",
       "    }\n",
       "\n",
       "    .dataframe tbody tr th {\n",
       "        vertical-align: top;\n",
       "    }\n",
       "\n",
       "    .dataframe thead th {\n",
       "        text-align: right;\n",
       "    }\n",
       "</style>\n",
       "<table border=\"1\" class=\"dataframe\">\n",
       "  <thead>\n",
       "    <tr style=\"text-align: right;\">\n",
       "      <th></th>\n",
       "      <th>subscription_type</th>\n",
       "      <th>minute_price</th>\n",
       "      <th>start_ride_price</th>\n",
       "      <th>subscription_fee</th>\n",
       "    </tr>\n",
       "  </thead>\n",
       "  <tbody>\n",
       "    <tr>\n",
       "      <th>0</th>\n",
       "      <td>free</td>\n",
       "      <td>8</td>\n",
       "      <td>50</td>\n",
       "      <td>0</td>\n",
       "    </tr>\n",
       "    <tr>\n",
       "      <th>1</th>\n",
       "      <td>ultra</td>\n",
       "      <td>6</td>\n",
       "      <td>0</td>\n",
       "      <td>199</td>\n",
       "    </tr>\n",
       "  </tbody>\n",
       "</table>\n",
       "</div>"
      ],
      "text/plain": [
       "  subscription_type  minute_price  start_ride_price  subscription_fee\n",
       "0              free             8                50                 0\n",
       "1             ultra             6                 0               199"
      ]
     },
     "metadata": {},
     "output_type": "display_data"
    },
    {
     "name": "stdout",
     "output_type": "stream",
     "text": [
      "<class 'pandas.core.frame.DataFrame'>\n",
      "RangeIndex: 2 entries, 0 to 1\n",
      "Data columns (total 4 columns):\n",
      " #   Column             Non-Null Count  Dtype \n",
      "---  ------             --------------  ----- \n",
      " 0   subscription_type  2 non-null      object\n",
      " 1   minute_price       2 non-null      int64 \n",
      " 2   start_ride_price   2 non-null      int64 \n",
      " 3   subscription_fee   2 non-null      int64 \n",
      "dtypes: int64(3), object(1)\n",
      "memory usage: 196.0+ bytes\n"
     ]
    }
   ],
   "source": [
    "display(subscriptions.head(5))\n",
    "subscriptions.info()"
   ]
  },
  {
   "cell_type": "markdown",
   "id": "0806c1fe-383a-4764-97e3-9381d02dba98",
   "metadata": {},
   "source": [
    "В датафреймах отображены имена пользователей, к каждому из них присвоен персональный id, далее имеется дата, время, место и продолжительность их поездок. Мы видим, оформлена ли подписка на самокаты у человека, или же он не пользуется подпиской. Вдобавок, мы можем заметить, что многие пользователи совершали по несколько поездок в течении года.\n",
    "После изучения общей информации о каждом датафрейме мы можем сказать, что в данных отсутвуют пропуски и нет необходимости в их обработке или замене."
   ]
  },
  {
   "cell_type": "markdown",
   "id": "a5797c2a-fccf-4c8d-9127-bfa97e051890",
   "metadata": {},
   "source": [
    "## Шаг 2. Предобработка данных"
   ]
  },
  {
   "cell_type": "code",
   "execution_count": 28,
   "id": "446e1766-9eba-4a04-b6ec-50bf0486faf9",
   "metadata": {},
   "outputs": [],
   "source": [
    "rides['date'] = pd.to_datetime(\n",
    "    rides['date'], format='%Y-%m-%d'\n",
    ") \n",
    "# приведем столбец date к типу даты pandas"
   ]
  },
  {
   "cell_type": "code",
   "execution_count": 29,
   "id": "e0e50c7d-2068-4ece-8887-85114dcdb98c",
   "metadata": {},
   "outputs": [
    {
     "name": "stdout",
     "output_type": "stream",
     "text": [
      "   user_id     distance   duration       date  month\n",
      "0        1  4409.919140  25.599769 2021-01-01      1\n",
      "1        1  2617.592153  15.816871 2021-01-18      1\n",
      "2        1   754.159807   6.232113 2021-04-20      4\n",
      "3        1  2694.783254  18.511000 2021-08-11      8\n",
      "4        1  4028.687306  26.265803 2021-08-28      8\n"
     ]
    }
   ],
   "source": [
    "rides['month'] = pd.DatetimeIndex(rides['date']).month #месяц поездки\n",
    "print(rides.head(5))"
   ]
  },
  {
   "cell_type": "code",
   "execution_count": 30,
   "id": "ab3906e5-d51e-4229-88b8-0d1859d1ded0",
   "metadata": {},
   "outputs": [
    {
     "name": "stdout",
     "output_type": "stream",
     "text": [
      "[2021]\n"
     ]
    }
   ],
   "source": [
    "rides['year'] = pd.DatetimeIndex(rides['date']).year #год поездки\n",
    "print(rides['year'].unique())"
   ]
  },
  {
   "cell_type": "markdown",
   "id": "0ec10c51-bad8-48d9-8693-c238e24f75ad",
   "metadata": {},
   "source": [
    "Как мы можем заменить, мы анализируем данные, только за 2021 год."
   ]
  },
  {
   "cell_type": "code",
   "execution_count": 31,
   "id": "4d8b41fb-9246-470c-b48a-cbb71af0c88c",
   "metadata": {},
   "outputs": [
    {
     "name": "stdout",
     "output_type": "stream",
     "text": [
      "user_id              0\n",
      "name                 0\n",
      "age                  0\n",
      "city                 0\n",
      "subscription_type    0\n",
      "dtype: int64\n",
      "user_id     0\n",
      "distance    0\n",
      "duration    0\n",
      "date        0\n",
      "month       0\n",
      "year        0\n",
      "dtype: int64\n",
      "subscription_type    0\n",
      "minute_price         0\n",
      "start_ride_price     0\n",
      "subscription_fee     0\n",
      "dtype: int64\n"
     ]
    }
   ],
   "source": [
    "print(users.isna().sum())\n",
    "print(rides.isna().sum())\n",
    "print(subscriptions.isna().sum())"
   ]
  },
  {
   "cell_type": "markdown",
   "id": "05185709-71c0-4996-afa2-dd3efff9e832",
   "metadata": {},
   "source": [
    "Как видно из информации о датафреймах, пропусков в данных нет. Проверим их на наличие дубликатов."
   ]
  },
  {
   "cell_type": "code",
   "execution_count": 32,
   "id": "7300e40f-c6e3-410c-becd-563b6ea39499",
   "metadata": {},
   "outputs": [
    {
     "name": "stdout",
     "output_type": "stream",
     "text": [
      "31\n"
     ]
    }
   ],
   "source": [
    "print(users['user_id'].duplicated().sum()) # найдем количество дубликатов"
   ]
  },
  {
   "cell_type": "code",
   "execution_count": 33,
   "id": "b7901a30-1ee0-4305-8631-70ff531a27d4",
   "metadata": {},
   "outputs": [
    {
     "name": "stdout",
     "output_type": "stream",
     "text": [
      "user_id\n",
      "209     2\n",
      "807     2\n",
      "611     2\n",
      "43      2\n",
      "737     2\n",
      "47      2\n",
      "1198    2\n",
      "829     2\n",
      "924     2\n",
      "153     2\n",
      "635     2\n",
      "72      2\n",
      "909     2\n",
      "908     2\n",
      "136     2\n",
      "1045    2\n",
      "1237    2\n",
      "127     2\n",
      "659     2\n",
      "307     2\n",
      "1245    2\n",
      "121     2\n",
      "666     2\n",
      "108     2\n",
      "297     2\n",
      "809     2\n",
      "293     2\n",
      "16      2\n",
      "422     2\n",
      "403     2\n",
      "204     2\n",
      "1035    1\n",
      "Name: count, dtype: int64\n"
     ]
    }
   ],
   "source": [
    "print(users['user_id'].value_counts().head(32))"
   ]
  },
  {
   "cell_type": "code",
   "execution_count": 34,
   "id": "b962ecb2-44fb-4361-9f0a-438142dd29f5",
   "metadata": {},
   "outputs": [
    {
     "name": "stdout",
     "output_type": "stream",
     "text": [
      "0\n"
     ]
    }
   ],
   "source": [
    "users = users.drop_duplicates(subset=['user_id'], keep='first')\n",
    "users = users.reset_index(drop=True)\n",
    "print(users['user_id'].duplicated().sum()) # проверка"
   ]
  },
  {
   "cell_type": "code",
   "execution_count": 35,
   "id": "d2a99cb2-ff3e-4e7b-9264-c62e7a3b0672",
   "metadata": {},
   "outputs": [
    {
     "name": "stdout",
     "output_type": "stream",
     "text": [
      "94\n"
     ]
    }
   ],
   "source": [
    "print(rides['duration'].duplicated().sum())"
   ]
  },
  {
   "cell_type": "code",
   "execution_count": 36,
   "id": "d2547db6-7e8c-4ca4-9e56-8488f4d037e6",
   "metadata": {},
   "outputs": [
    {
     "name": "stdout",
     "output_type": "stream",
     "text": [
      "duration\n",
      "0.500000     95\n",
      "25.599769     1\n",
      "30.932438     1\n",
      "12.061496     1\n",
      "15.615504     1\n",
      "Name: count, dtype: int64\n",
      "18068\n"
     ]
    }
   ],
   "source": [
    "print(rides['duration'].value_counts().head(5))\n",
    "print(len(rides['duration']))"
   ]
  },
  {
   "cell_type": "markdown",
   "id": "8c3cfea1-6012-4bd1-a591-246a769a7d73",
   "metadata": {},
   "source": [
    "Как мы видим, в датафрейме есть строки с очень быстрыми поездками (близкие по продолжительности к 0). Это может означать, что некоторые пользователи по ошибке начали поездку на самокате и сразу же ее отменили. Удалим данные значения, т.к. они составляют маленький процент от всего датафрейма, и не оказывают на него сильного влияния."
   ]
  },
  {
   "cell_type": "code",
   "execution_count": 37,
   "id": "5eb21c67-5265-4b81-b43e-a9835ade9139",
   "metadata": {},
   "outputs": [],
   "source": [
    "rides = rides[(rides['duration']>0.5)]\n",
    "rides = rides.reset_index(drop=True)"
   ]
  },
  {
   "cell_type": "code",
   "execution_count": 38,
   "id": "53e38d02-0d5d-4e26-b3e7-14db9f9106aa",
   "metadata": {},
   "outputs": [
    {
     "name": "stdout",
     "output_type": "stream",
     "text": [
      "0\n",
      "17973\n"
     ]
    }
   ],
   "source": [
    "print(rides['duration'].duplicated().sum()) #проверка\n",
    "print(len(rides['duration']))"
   ]
  },
  {
   "cell_type": "markdown",
   "id": "6a1989e0-ec97-4ae0-8a44-67cb33a58c91",
   "metadata": {},
   "source": [
    "В данной части работы мы выявляли пропуски и дубликаты в исходных датафреймах. Исследовали данные, только за 2021 год. Как оказалось, пропусков у нас не обнаружено, а дубликаты имелись. В user_id мы удалили все дубликаты и оставили только первые встречающиеся значения. Также, было очень много поездок по продолжительности очень близкими к 0 и т.к. строки с этими поездками и их параметры скорее аномальны, мы убрали их из нашего датафрейма."
   ]
  },
  {
   "cell_type": "markdown",
   "id": "629fa909-f444-456b-92e7-cc6894e18ce5",
   "metadata": {},
   "source": [
    "## Шаг 3. Исследовательский анализ данных"
   ]
  },
  {
   "cell_type": "markdown",
   "id": "7e88aac0-653a-47dc-8e47-61e2662e1cce",
   "metadata": {},
   "source": [
    "**Частота встречаемости городов:**"
   ]
  },
  {
   "cell_type": "code",
   "execution_count": 39,
   "id": "c53c9284-7850-4cd2-94f1-448c71e8f241",
   "metadata": {},
   "outputs": [
    {
     "data": {
      "image/png": "[encoded data removed]",
      "text/plain": [
       "<Figure size 800x400 with 1 Axes>"
      ]
     },
     "metadata": {},
     "output_type": "display_data"
    },
    {
     "name": "stdout",
     "output_type": "stream",
     "text": [
      "count          1534\n",
      "unique            8\n",
      "top       Пятигорск\n",
      "freq            219\n",
      "Name: city, dtype: object\n"
     ]
    }
   ],
   "source": [
    "users['city'].value_counts().plot.barh(grid=True, figsize=(8, 4))\n",
    "plt.xlabel('Города, в которых совершались поездки', fontsize=14)\n",
    "plt.ylabel('Количество пользователей', fontsize=14)\n",
    "plt.title('Частота встречаемости городов', fontsize=14)\n",
    "plt.show()\n",
    "print(users['city'].describe())"
   ]
  },
  {
   "cell_type": "code",
   "execution_count": 40,
   "id": "f1916f2b-ff00-408c-9684-46e48300adcf",
   "metadata": {},
   "outputs": [
    {
     "name": "stdout",
     "output_type": "stream",
     "text": [
      "city\n",
      "Пятигорск         219\n",
      "Екатеринбург      204\n",
      "Ростов-на-Дону    198\n",
      "Краснодар         193\n",
      "Сочи              189\n",
      "Омск              183\n",
      "Тюмень            180\n",
      "Москва            168\n",
      "Name: count, dtype: int64\n"
     ]
    }
   ],
   "source": [
    "print(users['city'].value_counts())"
   ]
  },
  {
   "cell_type": "markdown",
   "id": "9e4f7a06-3729-401e-a1ca-ead35b84bc78",
   "metadata": {},
   "source": [
    "Как мы видим из данных выше, во всех 8 городах примерно в равной мере люди любят кататься на самокатах, но больше всего их используют в Пятигорске, а именно 219 пользователей, в то время как в Москве меньше всего - 168."
   ]
  },
  {
   "cell_type": "markdown",
   "id": "0bd4e910-b486-40b0-83ae-8f4481cf467f",
   "metadata": {},
   "source": [
    "**Соотношение пользователей с подпиской и без подписки:**"
   ]
  },
  {
   "cell_type": "code",
   "execution_count": 41,
   "id": "645f7841-7b28-4999-aedd-0db8ab8636c2",
   "metadata": {},
   "outputs": [
    {
     "data": {
      "image/png": "[encoded data removed]",
      "text/plain": [
       "<Figure size 800x400 with 1 Axes>"
      ]
     },
     "metadata": {},
     "output_type": "display_data"
    },
    {
     "name": "stdout",
     "output_type": "stream",
     "text": [
      "count     1534\n",
      "unique       2\n",
      "top       free\n",
      "freq       835\n",
      "Name: subscription_type, dtype: object\n",
      "subscription_type\n",
      "free     835\n",
      "ultra    699\n",
      "Name: count, dtype: int64\n"
     ]
    }
   ],
   "source": [
    "users['subscription_type'].value_counts().plot.bar(grid=True, figsize=(8, 4))\n",
    "plt.xlabel('Вид подписки (с подпиской-ultra, без подписки-free)', fontsize=14)\n",
    "plt.ylabel('Количество пользователей', fontsize=14)\n",
    "plt.title('Соотношение пользователей с подпиской и без подписки', fontsize=14)\n",
    "plt.show()\n",
    "print(users['subscription_type'].describe())\n",
    "print(users['subscription_type'].value_counts())"
   ]
  },
  {
   "cell_type": "markdown",
   "id": "b32fac57-cbb7-4dbb-9204-5c404fb2a569",
   "metadata": {},
   "source": [
    "Построим круговую диаграмму, чтобы посмотреть соотношение двух групп пользователей."
   ]
  },
  {
   "cell_type": "code",
   "execution_count": 42,
   "id": "f46e63f4-326a-4326-abae-ff2e69ee2528",
   "metadata": {},
   "outputs": [
    {
     "data": {
      "image/png": "[encoded data removed]",
      "text/plain": [
       "<Figure size 640x480 with 1 Axes>"
      ]
     },
     "metadata": {},
     "output_type": "display_data"
    }
   ],
   "source": [
    "labels = 'Free', 'Ultra'\n",
    "sizes = [835, 699]\n",
    "fig1, ax1 = plt.subplots()\n",
    "explode = [0.03, 0.03]\n",
    "ax1.pie(sizes, labels=labels, autopct='%1.1f%%', explode=explode)\n",
    "plt.title('Процентное соотношение пользователей с и без подписки', fontsize=14)\n",
    "plt.show()"
   ]
  },
  {
   "cell_type": "markdown",
   "id": "3890bfc4-9643-4976-8b75-2552e1fc3127",
   "metadata": {},
   "source": [
    "Людей, которые используют подписку для поездок на самокате составляет 699 человек, в то время как катающихся бесплатно 835 пользователей. Из круговой диаграммы видно, что большинсво людей, а именно 54.4 % из общего количества пользователей, предпочитают кататься на самокатах без подписки."
   ]
  },
  {
   "cell_type": "markdown",
   "id": "7de8f7fa-d704-445c-ba04-3b04a9d260a7",
   "metadata": {},
   "source": [
    "**Возраст пользователей:**"
   ]
  },
  {
   "cell_type": "code",
   "execution_count": 43,
   "id": "fd6a0276-d1b7-4d51-9876-f29cb0317cc8",
   "metadata": {},
   "outputs": [
    {
     "data": {
      "image/png": "[encoded data removed]",
      "text/plain": [
       "<Figure size 800x400 with 1 Axes>"
      ]
     },
     "metadata": {},
     "output_type": "display_data"
    }
   ],
   "source": [
    "users['age'].hist(bins=30, grid=True, figsize=(8, 4))\n",
    "plt.xlabel('Количество лет', fontsize=14)\n",
    "plt.ylabel('Количество пользователей', fontsize=14)\n",
    "plt.title('Гистограмма возраста пользователей', fontsize=14)\n",
    "plt.show()"
   ]
  },
  {
   "cell_type": "code",
   "execution_count": 44,
   "id": "edf92f40-5b9d-4877-8b39-6821b9b127d4",
   "metadata": {},
   "outputs": [
    {
     "name": "stdout",
     "output_type": "stream",
     "text": [
      "count    1534.000000\n",
      "mean       24.903520\n",
      "std         4.572367\n",
      "min        12.000000\n",
      "25%        22.000000\n",
      "50%        25.000000\n",
      "75%        28.000000\n",
      "max        43.000000\n",
      "Name: age, dtype: float64\n",
      "age\n",
      "25    145\n",
      "24    132\n",
      "26    131\n",
      "23    129\n",
      "22    119\n",
      "27    119\n",
      "28    112\n",
      "21     93\n",
      "20     71\n",
      "30     68\n",
      "29     68\n",
      "31     48\n",
      "19     47\n",
      "18     46\n",
      "32     41\n",
      "33     39\n",
      "17     26\n",
      "16     19\n",
      "34     19\n",
      "35     15\n",
      "15     13\n",
      "14      9\n",
      "13      8\n",
      "36      6\n",
      "12      4\n",
      "38      3\n",
      "37      2\n",
      "39      1\n",
      "43      1\n",
      "Name: count, dtype: int64\n"
     ]
    }
   ],
   "source": [
    "print(users['age'].describe())\n",
    "print(users['age'].value_counts())"
   ]
  },
  {
   "cell_type": "markdown",
   "id": "bea7285a-02c6-4909-80b1-8004621168f3",
   "metadata": {},
   "source": [
    "Возраст людей варьируется от 12 до 43 лет. Как и ожадалось из гистограммы мы видим, что молодые люди в возрасте от 22-28 чаще используют самокат как средство транспорта, нежели люди среднего возраста. Больше всего пользователей, а именно 145 человек, 25-летнего возраста. И всего 1 человек 39-и и 43-летнего возраста."
   ]
  },
  {
   "cell_type": "markdown",
   "id": "1b328b8a-7ef4-40ee-85f8-1a4178bcaaf8",
   "metadata": {},
   "source": [
    "**Расстояние, которое пользователь преодолел за одну поездку:**"
   ]
  },
  {
   "cell_type": "code",
   "execution_count": 45,
   "id": "b10ce9e4-01b3-4a78-a945-8e5a59228fc5",
   "metadata": {},
   "outputs": [
    {
     "data": {
      "image/png": "[encoded data removed]",
      "text/plain": [
       "<Figure size 1200x1000 with 1 Axes>"
      ]
     },
     "metadata": {},
     "output_type": "display_data"
    }
   ],
   "source": [
    "rides['distance'].plot(\n",
    "    kind='hist',\n",
    "    bins=100,\n",
    "    figsize=(12,10),\n",
    "    fontsize=11,\n",
    "    grid=True\n",
    ")\n",
    "plt.xlabel('Дистанция поездки (м)', fontsize=14)\n",
    "plt.ylabel('Количество поездок', fontsize=14)\n",
    "plt.title('Расстояние, которое пользователь преодолел за одну поездку', fontsize=14)\n",
    "plt.show() "
   ]
  },
  {
   "cell_type": "markdown",
   "id": "def5db3b-163c-4080-a328-f26e5f87f735",
   "metadata": {},
   "source": [
    "В данной гистограмме у нас присутсвуют два пиковых значения на распределении. Это можно обяснить тем, что скорее всего у нас есть два вида пользователей самокатов. Те, кто используют их как непостредсвенно средство передвижения из пунка А в пункт Б на далекие расстояния. И те, кто катается на самокатах ради развлечения, а также возможно до ближайщих точек от дома, например магазин."
   ]
  },
  {
   "cell_type": "code",
   "execution_count": 46,
   "id": "c8492111-ac9f-4862-9ab0-893fc4008dda",
   "metadata": {},
   "outputs": [
    {
     "name": "stdout",
     "output_type": "stream",
     "text": [
      "count    17973.000000\n",
      "mean      3059.863833\n",
      "std       1108.814612\n",
      "min          0.855683\n",
      "25%       2538.839628\n",
      "50%       3129.029255\n",
      "75%       3762.636244\n",
      "max       7066.003772\n",
      "Name: distance, dtype: float64\n"
     ]
    }
   ],
   "source": [
    "print(rides['distance'].describe())"
   ]
  },
  {
   "cell_type": "markdown",
   "id": "ffebf20b-188d-418e-abf5-c890b5056ac4",
   "metadata": {},
   "source": [
    "Как мы видим из графика, самокаты, как средство передвижения, используют как на маленькие так и на большие дистанции. Подавляющее большинство пользователей совершают поездки в среднем от 2.500 до 3.700 метров."
   ]
  },
  {
   "cell_type": "markdown",
   "id": "fc6e3b4d-bdd1-41d3-84df-e76dd8554f69",
   "metadata": {},
   "source": [
    "**Продолжительность поездок пользователей:**"
   ]
  },
  {
   "cell_type": "code",
   "execution_count": 47,
   "id": "a3f42208-2fbc-4583-8696-8d337a761687",
   "metadata": {},
   "outputs": [
    {
     "data": {
      "image/png": "[encoded data removed]",
      "text/plain": [
       "<Figure size 1200x1000 with 1 Axes>"
      ]
     },
     "metadata": {},
     "output_type": "display_data"
    }
   ],
   "source": [
    "rides['duration'].plot(\n",
    "    kind='hist',\n",
    "    bins=100,\n",
    "    figsize=(12,10),\n",
    "    fontsize=11,\n",
    "    grid=True\n",
    ")\n",
    "plt.xlabel('Продолжительность поездки (минуты) ', fontsize=14)\n",
    "plt.ylabel('Количество поездок', fontsize=14)\n",
    "plt.title('Продолжительность поездок пользователей', fontsize=14)\n",
    "plt.show() "
   ]
  },
  {
   "cell_type": "code",
   "execution_count": 48,
   "id": "b9672462-86ba-42ed-b31a-ff3349674fd0",
   "metadata": {},
   "outputs": [
    {
     "name": "stdout",
     "output_type": "stream",
     "text": [
      "count    17973.000000\n",
      "mean        17.896480\n",
      "std          5.975424\n",
      "min          2.035632\n",
      "25%         13.670439\n",
      "50%         17.714122\n",
      "75%         21.747016\n",
      "max         40.823963\n",
      "Name: duration, dtype: float64\n"
     ]
    }
   ],
   "source": [
    "print(rides['duration'].describe())"
   ]
  },
  {
   "cell_type": "markdown",
   "id": "399ad435-4079-423c-8ef9-8b97e7e5f223",
   "metadata": {},
   "source": [
    "Как мы видим из гистограммы, промежуток продолжительности поездок составляет от 2 до 40 минут, а в среднем, большинство людей совершают поездки продолжительностью от 13 до 21 минуты."
   ]
  },
  {
   "cell_type": "markdown",
   "id": "2f97c554-05d8-4710-9c03-76e7b4f94d6f",
   "metadata": {},
   "source": [
    "## Шаг 4. Объединение данных"
   ]
  },
  {
   "cell_type": "code",
   "execution_count": 49,
   "id": "a560aee6-adf9-4622-9723-70278276a94e",
   "metadata": {},
   "outputs": [
    {
     "data": {
      "text/html": [
       "<div>\n",
       "<style scoped>\n",
       "    .dataframe tbody tr th:only-of-type {\n",
       "        vertical-align: middle;\n",
       "    }\n",
       "\n",
       "    .dataframe tbody tr th {\n",
       "        vertical-align: top;\n",
       "    }\n",
       "\n",
       "    .dataframe thead th {\n",
       "        text-align: right;\n",
       "    }\n",
       "</style>\n",
       "<table border=\"1\" class=\"dataframe\">\n",
       "  <thead>\n",
       "    <tr style=\"text-align: right;\">\n",
       "      <th></th>\n",
       "      <th>user_id</th>\n",
       "      <th>name</th>\n",
       "      <th>age</th>\n",
       "      <th>city</th>\n",
       "      <th>subscription_type</th>\n",
       "      <th>distance</th>\n",
       "      <th>duration</th>\n",
       "      <th>date</th>\n",
       "      <th>month</th>\n",
       "      <th>year</th>\n",
       "    </tr>\n",
       "  </thead>\n",
       "  <tbody>\n",
       "    <tr>\n",
       "      <th>0</th>\n",
       "      <td>1</td>\n",
       "      <td>Кира</td>\n",
       "      <td>22</td>\n",
       "      <td>Тюмень</td>\n",
       "      <td>ultra</td>\n",
       "      <td>4409.919140</td>\n",
       "      <td>25.599769</td>\n",
       "      <td>2021-01-01</td>\n",
       "      <td>1</td>\n",
       "      <td>2021</td>\n",
       "    </tr>\n",
       "    <tr>\n",
       "      <th>1</th>\n",
       "      <td>1</td>\n",
       "      <td>Кира</td>\n",
       "      <td>22</td>\n",
       "      <td>Тюмень</td>\n",
       "      <td>ultra</td>\n",
       "      <td>2617.592153</td>\n",
       "      <td>15.816871</td>\n",
       "      <td>2021-01-18</td>\n",
       "      <td>1</td>\n",
       "      <td>2021</td>\n",
       "    </tr>\n",
       "    <tr>\n",
       "      <th>2</th>\n",
       "      <td>1</td>\n",
       "      <td>Кира</td>\n",
       "      <td>22</td>\n",
       "      <td>Тюмень</td>\n",
       "      <td>ultra</td>\n",
       "      <td>754.159807</td>\n",
       "      <td>6.232113</td>\n",
       "      <td>2021-04-20</td>\n",
       "      <td>4</td>\n",
       "      <td>2021</td>\n",
       "    </tr>\n",
       "    <tr>\n",
       "      <th>3</th>\n",
       "      <td>1</td>\n",
       "      <td>Кира</td>\n",
       "      <td>22</td>\n",
       "      <td>Тюмень</td>\n",
       "      <td>ultra</td>\n",
       "      <td>2694.783254</td>\n",
       "      <td>18.511000</td>\n",
       "      <td>2021-08-11</td>\n",
       "      <td>8</td>\n",
       "      <td>2021</td>\n",
       "    </tr>\n",
       "    <tr>\n",
       "      <th>4</th>\n",
       "      <td>1</td>\n",
       "      <td>Кира</td>\n",
       "      <td>22</td>\n",
       "      <td>Тюмень</td>\n",
       "      <td>ultra</td>\n",
       "      <td>4028.687306</td>\n",
       "      <td>26.265803</td>\n",
       "      <td>2021-08-28</td>\n",
       "      <td>8</td>\n",
       "      <td>2021</td>\n",
       "    </tr>\n",
       "  </tbody>\n",
       "</table>\n",
       "</div>"
      ],
      "text/plain": [
       "   user_id  name  age    city subscription_type     distance   duration  \\\n",
       "0        1  Кира   22  Тюмень             ultra  4409.919140  25.599769   \n",
       "1        1  Кира   22  Тюмень             ultra  2617.592153  15.816871   \n",
       "2        1  Кира   22  Тюмень             ultra   754.159807   6.232113   \n",
       "3        1  Кира   22  Тюмень             ultra  2694.783254  18.511000   \n",
       "4        1  Кира   22  Тюмень             ultra  4028.687306  26.265803   \n",
       "\n",
       "        date  month  year  \n",
       "0 2021-01-01      1  2021  \n",
       "1 2021-01-18      1  2021  \n",
       "2 2021-04-20      4  2021  \n",
       "3 2021-08-11      8  2021  \n",
       "4 2021-08-28      8  2021  "
      ]
     },
     "execution_count": 49,
     "metadata": {},
     "output_type": "execute_result"
    }
   ],
   "source": [
    "data_users_rides = users.merge(rides, on='user_id')\n",
    "data_users_rides.head(5) #объединяем датафреймы в один датафрейм"
   ]
  },
  {
   "cell_type": "code",
   "execution_count": 50,
   "id": "2143bf76-5624-494a-bfe4-4f037bb97bf0",
   "metadata": {},
   "outputs": [
    {
     "data": {
      "text/html": [
       "<div>\n",
       "<style scoped>\n",
       "    .dataframe tbody tr th:only-of-type {\n",
       "        vertical-align: middle;\n",
       "    }\n",
       "\n",
       "    .dataframe tbody tr th {\n",
       "        vertical-align: top;\n",
       "    }\n",
       "\n",
       "    .dataframe thead th {\n",
       "        text-align: right;\n",
       "    }\n",
       "</style>\n",
       "<table border=\"1\" class=\"dataframe\">\n",
       "  <thead>\n",
       "    <tr style=\"text-align: right;\">\n",
       "      <th></th>\n",
       "      <th>user_id</th>\n",
       "      <th>name</th>\n",
       "      <th>age</th>\n",
       "      <th>city</th>\n",
       "      <th>subscription_type</th>\n",
       "      <th>distance</th>\n",
       "      <th>duration</th>\n",
       "      <th>date</th>\n",
       "      <th>month</th>\n",
       "      <th>year</th>\n",
       "      <th>minute_price</th>\n",
       "      <th>start_ride_price</th>\n",
       "      <th>subscription_fee</th>\n",
       "    </tr>\n",
       "  </thead>\n",
       "  <tbody>\n",
       "    <tr>\n",
       "      <th>0</th>\n",
       "      <td>1</td>\n",
       "      <td>Кира</td>\n",
       "      <td>22</td>\n",
       "      <td>Тюмень</td>\n",
       "      <td>ultra</td>\n",
       "      <td>4409.919140</td>\n",
       "      <td>25.599769</td>\n",
       "      <td>2021-01-01</td>\n",
       "      <td>1</td>\n",
       "      <td>2021</td>\n",
       "      <td>6</td>\n",
       "      <td>0</td>\n",
       "      <td>199</td>\n",
       "    </tr>\n",
       "    <tr>\n",
       "      <th>1</th>\n",
       "      <td>1</td>\n",
       "      <td>Кира</td>\n",
       "      <td>22</td>\n",
       "      <td>Тюмень</td>\n",
       "      <td>ultra</td>\n",
       "      <td>2617.592153</td>\n",
       "      <td>15.816871</td>\n",
       "      <td>2021-01-18</td>\n",
       "      <td>1</td>\n",
       "      <td>2021</td>\n",
       "      <td>6</td>\n",
       "      <td>0</td>\n",
       "      <td>199</td>\n",
       "    </tr>\n",
       "    <tr>\n",
       "      <th>2</th>\n",
       "      <td>1</td>\n",
       "      <td>Кира</td>\n",
       "      <td>22</td>\n",
       "      <td>Тюмень</td>\n",
       "      <td>ultra</td>\n",
       "      <td>754.159807</td>\n",
       "      <td>6.232113</td>\n",
       "      <td>2021-04-20</td>\n",
       "      <td>4</td>\n",
       "      <td>2021</td>\n",
       "      <td>6</td>\n",
       "      <td>0</td>\n",
       "      <td>199</td>\n",
       "    </tr>\n",
       "    <tr>\n",
       "      <th>3</th>\n",
       "      <td>1</td>\n",
       "      <td>Кира</td>\n",
       "      <td>22</td>\n",
       "      <td>Тюмень</td>\n",
       "      <td>ultra</td>\n",
       "      <td>2694.783254</td>\n",
       "      <td>18.511000</td>\n",
       "      <td>2021-08-11</td>\n",
       "      <td>8</td>\n",
       "      <td>2021</td>\n",
       "      <td>6</td>\n",
       "      <td>0</td>\n",
       "      <td>199</td>\n",
       "    </tr>\n",
       "    <tr>\n",
       "      <th>4</th>\n",
       "      <td>1</td>\n",
       "      <td>Кира</td>\n",
       "      <td>22</td>\n",
       "      <td>Тюмень</td>\n",
       "      <td>ultra</td>\n",
       "      <td>4028.687306</td>\n",
       "      <td>26.265803</td>\n",
       "      <td>2021-08-28</td>\n",
       "      <td>8</td>\n",
       "      <td>2021</td>\n",
       "      <td>6</td>\n",
       "      <td>0</td>\n",
       "      <td>199</td>\n",
       "    </tr>\n",
       "  </tbody>\n",
       "</table>\n",
       "</div>"
      ],
      "text/plain": [
       "   user_id  name  age    city subscription_type     distance   duration  \\\n",
       "0        1  Кира   22  Тюмень             ultra  4409.919140  25.599769   \n",
       "1        1  Кира   22  Тюмень             ultra  2617.592153  15.816871   \n",
       "2        1  Кира   22  Тюмень             ultra   754.159807   6.232113   \n",
       "3        1  Кира   22  Тюмень             ultra  2694.783254  18.511000   \n",
       "4        1  Кира   22  Тюмень             ultra  4028.687306  26.265803   \n",
       "\n",
       "        date  month  year  minute_price  start_ride_price  subscription_fee  \n",
       "0 2021-01-01      1  2021             6                 0               199  \n",
       "1 2021-01-18      1  2021             6                 0               199  \n",
       "2 2021-04-20      4  2021             6                 0               199  \n",
       "3 2021-08-11      8  2021             6                 0               199  \n",
       "4 2021-08-28      8  2021             6                 0               199  "
      ]
     },
     "execution_count": 50,
     "metadata": {},
     "output_type": "execute_result"
    }
   ],
   "source": [
    "data_total = data_users_rides.merge(subscriptions, on='subscription_type')\n",
    "data_total.head(5)"
   ]
  },
  {
   "cell_type": "markdown",
   "id": "0707b6da-f983-4985-a85c-58ed9d32d9b5",
   "metadata": {},
   "source": [
    "Проверяем полученную таблицу:"
   ]
  },
  {
   "cell_type": "code",
   "execution_count": 51,
   "id": "02b6b246-1857-4410-b19c-bf505d457076",
   "metadata": {},
   "outputs": [
    {
     "name": "stdout",
     "output_type": "stream",
     "text": [
      "Количество строк таблицы users:  1534\n",
      "Количество строк таблицы rides:  17973\n",
      "Количество строк таблицы subscriptions:  2\n",
      "Количество строк после объединения:  17973\n"
     ]
    }
   ],
   "source": [
    "print('Количество строк таблицы users: ', len(users))\n",
    "print('Количество строк таблицы rides: ', len(rides))\n",
    "print('Количество строк таблицы subscriptions: ', len(subscriptions))\n",
    "print('Количество строк после объединения: ',len(data_total))"
   ]
  },
  {
   "cell_type": "code",
   "execution_count": 52,
   "id": "6a040b51-c968-47a1-8e5d-9ac471f9d369",
   "metadata": {},
   "outputs": [
    {
     "name": "stdout",
     "output_type": "stream",
     "text": [
      "user_id              0\n",
      "name                 0\n",
      "age                  0\n",
      "city                 0\n",
      "subscription_type    0\n",
      "distance             0\n",
      "duration             0\n",
      "date                 0\n",
      "month                0\n",
      "year                 0\n",
      "minute_price         0\n",
      "start_ride_price     0\n",
      "subscription_fee     0\n",
      "dtype: int64\n"
     ]
    }
   ],
   "source": [
    "print(data_total.isna().sum())"
   ]
  },
  {
   "cell_type": "markdown",
   "id": "73086fa9-57a8-467f-b1c0-b6c9bc2c64ce",
   "metadata": {},
   "source": [
    "Все хорошо, после объединения все строчки остались на месте и пропуски не появились.\n",
    "Далее cоздадим ещё датафрейм с данными о пользователях с подпиской и без нее"
   ]
  },
  {
   "cell_type": "code",
   "execution_count": 53,
   "id": "3e9586a0-2937-490b-8784-f2003c75cb64",
   "metadata": {},
   "outputs": [],
   "source": [
    "data_users_sub = data_total.query('subscription_type==\"ultra\"') #cоздайем ещё датафрейм с данными о пользователях с подпиской\n",
    "data_users_nosub = data_total.query('subscription_type==\"free\"') #cоздайем ещё датафрейм с данными о пользователях без подписки"
   ]
  },
  {
   "cell_type": "code",
   "execution_count": 54,
   "id": "9061799d-5b72-4b7d-823a-b39360034f29",
   "metadata": {},
   "outputs": [
    {
     "name": "stdout",
     "output_type": "stream",
     "text": [
      "17973\n",
      "6500\n",
      "11473\n"
     ]
    }
   ],
   "source": [
    "print(len(data_users_rides))\n",
    "print(len(data_users_sub))\n",
    "print(len(data_users_nosub)) #проверяем, чтобы ничего не потерялось"
   ]
  },
  {
   "cell_type": "markdown",
   "id": "fa099880-6660-4a12-8063-71fa767cd483",
   "metadata": {},
   "source": [
    "Поездок пользователей без подписки почти в 2 раза больше, нежели с ней."
   ]
  },
  {
   "cell_type": "markdown",
   "id": "1a16bfee-a02a-4ada-aaff-7171e96b39b0",
   "metadata": {},
   "source": [
    "**Рассмотрим информацию о пройденом расстоянии пользователей с подпиской и без нее:**"
   ]
  },
  {
   "cell_type": "code",
   "execution_count": 55,
   "id": "80d3a040-36ca-4d2e-bc04-241f87401a16",
   "metadata": {},
   "outputs": [
    {
     "data": {
      "image/png": "[encoded data removed]",
      "text/plain": [
       "<Figure size 1200x1000 with 1 Axes>"
      ]
     },
     "metadata": {},
     "output_type": "display_data"
    }
   ],
   "source": [
    "ax = data_users_nosub.plot(\n",
    "    kind='hist',\n",
    "    y='distance',\n",
    "    range=(0, 7200),\n",
    "    figsize=(12,10),\n",
    "    bins=100,\n",
    "    alpha=0.7,\n",
    "    label='free', # гистограмма по дальности поездок для пользователей без подписки\n",
    ")\n",
    "data_users_sub.plot(\n",
    "    kind='hist',\n",
    "    y='distance',\n",
    "    range=(0, 7200),\n",
    "    figsize=(12,10),\n",
    "    bins=100,\n",
    "    alpha=0.7,\n",
    "    label='ultra',\n",
    "    ax=ax,\n",
    "    grid=True,\n",
    "    legend=True, \n",
    ") \n",
    "plt.xlabel('Дистанция поездок в метрах', fontsize=14)\n",
    "plt.ylabel('Количество поездок', fontsize=14)\n",
    "plt.title('Пройденное расстояние пользователей с подпиской и без нее', fontsize=14)\n",
    "plt.show() # построим общую гистограмму по дальности поездок для пользователей с подпиской и без нее"
   ]
  },
  {
   "cell_type": "code",
   "execution_count": 56,
   "id": "a1fe0e6a-2665-4217-a76f-453f800b0635",
   "metadata": {},
   "outputs": [
    {
     "data": {
      "text/plain": [
       "count    6500.000000\n",
       "mean     3115.445388\n",
       "std       836.895330\n",
       "min       244.210438\n",
       "25%      2785.444017\n",
       "50%      3148.637229\n",
       "75%      3560.574425\n",
       "max      5699.769662\n",
       "Name: distance, dtype: float64"
      ]
     },
     "execution_count": 56,
     "metadata": {},
     "output_type": "execute_result"
    }
   ],
   "source": [
    "data_users_sub['distance'].describe() #данные расстояния о пользователях с подпиской"
   ]
  },
  {
   "cell_type": "code",
   "execution_count": 57,
   "id": "961e8680-c904-4377-ad4c-926a02fb8336",
   "metadata": {},
   "outputs": [
    {
     "data": {
      "text/plain": [
       "count    11473.000000\n",
       "mean      3028.374239\n",
       "std       1235.541051\n",
       "min          0.855683\n",
       "25%       2360.878149\n",
       "50%       3102.083025\n",
       "75%       3883.979311\n",
       "max       7066.003772\n",
       "Name: distance, dtype: float64"
      ]
     },
     "execution_count": 57,
     "metadata": {},
     "output_type": "execute_result"
    }
   ],
   "source": [
    "data_users_nosub['distance'].describe() #данные расстояния о пользователях без подписки"
   ]
  },
  {
   "cell_type": "markdown",
   "id": "d54b2f56-3473-4362-a8fc-c1cab98d4582",
   "metadata": {},
   "source": [
    "Как мы видим из данных графиков, пользователи без подписки катаются на самокатах на более длительные расстояния, нежели пользователи с подпиской. Также, люди без подписки, более склонны и любят совершать проездки на самокатах на маленькие расстояния, скорее всего ради развлечения. А так, в среднем, обе группы людей, у которых оформляена подписка и у которых ее нет, совершают поездки приблизительно на расстояние 3.100 метров."
   ]
  },
  {
   "cell_type": "markdown",
   "id": "1e189577-6fb7-4b13-a71f-7324917f1079",
   "metadata": {},
   "source": [
    "**Рассмотрим информацию о времени поездок пользователей с подпиской и без нее:**"
   ]
  },
  {
   "cell_type": "code",
   "execution_count": 58,
   "id": "2f3554ae-1ccb-4b2c-91df-766a7b9dfe7e",
   "metadata": {},
   "outputs": [
    {
     "data": {
      "image/png": "[encoded data removed]",
      "text/plain": [
       "<Figure size 1200x1000 with 1 Axes>"
      ]
     },
     "metadata": {},
     "output_type": "display_data"
    }
   ],
   "source": [
    "ax = data_users_nosub.plot(\n",
    "    kind='hist',\n",
    "    y='duration',\n",
    "    range=(0, 40),\n",
    "    figsize=(12,10),\n",
    "    bins=100,\n",
    "    alpha=0.7,\n",
    "    label='free', # гистограмма о продолжительности поездок для пользователей без подписки\n",
    ")\n",
    "data_users_sub.plot(\n",
    "    kind='hist',\n",
    "    y='duration',\n",
    "    range=(0, 40),\n",
    "    figsize=(12,10),\n",
    "    bins=100,\n",
    "    alpha=0.7,\n",
    "    label='ultra',\n",
    "    ax=ax,\n",
    "    grid=True,\n",
    "    legend=True, \n",
    ") \n",
    "plt.xlabel('Продолжительность поездок в минутах', fontsize=14)\n",
    "plt.ylabel('Количество поездок', fontsize=14)\n",
    "plt.title('Время поездок пользователей с подпиской и без нее', fontsize=14)\n",
    "plt.show() # построим общую гистограмму о продолжительности поездок для пользователей с подпиской и без нее"
   ]
  },
  {
   "cell_type": "code",
   "execution_count": 59,
   "id": "c1c465a7-a266-4c5c-bbf9-ff76054facaf",
   "metadata": {},
   "outputs": [
    {
     "data": {
      "text/plain": [
       "count    6500.000000\n",
       "mean       18.541985\n",
       "std         5.572048\n",
       "min         3.760353\n",
       "25%        14.524654\n",
       "50%        18.178153\n",
       "75%        21.884129\n",
       "max        40.823963\n",
       "Name: duration, dtype: float64"
      ]
     },
     "execution_count": 59,
     "metadata": {},
     "output_type": "execute_result"
    }
   ],
   "source": [
    "data_users_sub['duration'].describe() #данные о времени поездок у пользователей с подпиской"
   ]
  },
  {
   "cell_type": "code",
   "execution_count": 60,
   "id": "15491a0c-3ac7-4e5b-9d56-1f346de43846",
   "metadata": {},
   "outputs": [
    {
     "data": {
      "text/plain": [
       "count    11473.000000\n",
       "mean        17.530771\n",
       "std          6.162609\n",
       "min          2.035632\n",
       "25%         13.085688\n",
       "50%         17.383807\n",
       "75%         21.638038\n",
       "max         34.948498\n",
       "Name: duration, dtype: float64"
      ]
     },
     "execution_count": 60,
     "metadata": {},
     "output_type": "execute_result"
    }
   ],
   "source": [
    "data_users_nosub['duration'].describe() #данные о времени поездок у пользователей без подписки"
   ]
  },
  {
   "cell_type": "markdown",
   "id": "c45ce184-9ced-42aa-a2c2-ab95fdce295c",
   "metadata": {},
   "source": [
    "На данном объединенном графике видно, что количество поездок совершенных пользователями без подписки больше, чем с подпиской. Также, у обоих катагорий пользователей примерно одинаковая средняя продолжительность поездки 17-18 минут."
   ]
  },
  {
   "cell_type": "markdown",
   "id": "1b2bc5fb-487e-45cb-9f91-8adb5a3111a7",
   "metadata": {},
   "source": [
    "## Шаг 5. Подсчёт выручки"
   ]
  },
  {
   "cell_type": "code",
   "execution_count": 61,
   "id": "e4e06b3d-7f1c-4f86-aed8-6bc80b8241fb",
   "metadata": {},
   "outputs": [],
   "source": [
    "import numpy as np\n",
    "\n",
    "# каждое значение из столбца duration округляем с помощью «потолка»: \n",
    "data_total['duration'] = np.ceil(data_total['duration'])"
   ]
  },
  {
   "cell_type": "code",
   "execution_count": 62,
   "id": "cc0d3d93-ce70-41e2-9b79-3d4aab921bbc",
   "metadata": {},
   "outputs": [],
   "source": [
    "#cоздаем датафрейм с агрегированными данными\n",
    "data_total_aggregated = data_total.groupby(['user_id', 'month'])\\\n",
    "                     .agg({'distance':'sum', 'duration':['sum', 'count'], 'subscription_type':'first',\n",
    "                           'minute_price':'first', 'start_ride_price':'first', 'subscription_fee':'first'})\n",
    "\n",
    "# переименуем названия столбцов\n",
    "data_total_aggregated.columns = ['sum_distance', 'sum_duration', 'count_rides', \n",
    "                                 'subscription_type', 'minute_price', 'start_ride_price', 'subscription_fee']"
   ]
  },
  {
   "cell_type": "code",
   "execution_count": 63,
   "id": "57626532-1cc5-4c9f-bed1-511ec8b42602",
   "metadata": {},
   "outputs": [
    {
     "data": {
      "text/html": [
       "<div>\n",
       "<style scoped>\n",
       "    .dataframe tbody tr th:only-of-type {\n",
       "        vertical-align: middle;\n",
       "    }\n",
       "\n",
       "    .dataframe tbody tr th {\n",
       "        vertical-align: top;\n",
       "    }\n",
       "\n",
       "    .dataframe thead th {\n",
       "        text-align: right;\n",
       "    }\n",
       "</style>\n",
       "<table border=\"1\" class=\"dataframe\">\n",
       "  <thead>\n",
       "    <tr style=\"text-align: right;\">\n",
       "      <th></th>\n",
       "      <th></th>\n",
       "      <th>sum_distance</th>\n",
       "      <th>sum_duration</th>\n",
       "      <th>count_rides</th>\n",
       "      <th>subscription_type</th>\n",
       "      <th>minute_price</th>\n",
       "      <th>start_ride_price</th>\n",
       "      <th>subscription_fee</th>\n",
       "    </tr>\n",
       "    <tr>\n",
       "      <th>user_id</th>\n",
       "      <th>month</th>\n",
       "      <th></th>\n",
       "      <th></th>\n",
       "      <th></th>\n",
       "      <th></th>\n",
       "      <th></th>\n",
       "      <th></th>\n",
       "      <th></th>\n",
       "    </tr>\n",
       "  </thead>\n",
       "  <tbody>\n",
       "    <tr>\n",
       "      <th rowspan=\"5\" valign=\"top\">1</th>\n",
       "      <th>1</th>\n",
       "      <td>7027.511294</td>\n",
       "      <td>42.0</td>\n",
       "      <td>2</td>\n",
       "      <td>ultra</td>\n",
       "      <td>6</td>\n",
       "      <td>0</td>\n",
       "      <td>199</td>\n",
       "    </tr>\n",
       "    <tr>\n",
       "      <th>4</th>\n",
       "      <td>754.159807</td>\n",
       "      <td>7.0</td>\n",
       "      <td>1</td>\n",
       "      <td>ultra</td>\n",
       "      <td>6</td>\n",
       "      <td>0</td>\n",
       "      <td>199</td>\n",
       "    </tr>\n",
       "    <tr>\n",
       "      <th>8</th>\n",
       "      <td>6723.470560</td>\n",
       "      <td>46.0</td>\n",
       "      <td>2</td>\n",
       "      <td>ultra</td>\n",
       "      <td>6</td>\n",
       "      <td>0</td>\n",
       "      <td>199</td>\n",
       "    </tr>\n",
       "    <tr>\n",
       "      <th>10</th>\n",
       "      <td>5809.911100</td>\n",
       "      <td>32.0</td>\n",
       "      <td>2</td>\n",
       "      <td>ultra</td>\n",
       "      <td>6</td>\n",
       "      <td>0</td>\n",
       "      <td>199</td>\n",
       "    </tr>\n",
       "    <tr>\n",
       "      <th>11</th>\n",
       "      <td>7003.499363</td>\n",
       "      <td>56.0</td>\n",
       "      <td>3</td>\n",
       "      <td>ultra</td>\n",
       "      <td>6</td>\n",
       "      <td>0</td>\n",
       "      <td>199</td>\n",
       "    </tr>\n",
       "  </tbody>\n",
       "</table>\n",
       "</div>"
      ],
      "text/plain": [
       "               sum_distance  sum_duration  count_rides subscription_type  \\\n",
       "user_id month                                                              \n",
       "1       1       7027.511294          42.0            2             ultra   \n",
       "        4        754.159807           7.0            1             ultra   \n",
       "        8       6723.470560          46.0            2             ultra   \n",
       "        10      5809.911100          32.0            2             ultra   \n",
       "        11      7003.499363          56.0            3             ultra   \n",
       "\n",
       "               minute_price  start_ride_price  subscription_fee  \n",
       "user_id month                                                    \n",
       "1       1                 6                 0               199  \n",
       "        4                 6                 0               199  \n",
       "        8                 6                 0               199  \n",
       "        10                6                 0               199  \n",
       "        11                6                 0               199  "
      ]
     },
     "execution_count": 63,
     "metadata": {},
     "output_type": "execute_result"
    }
   ],
   "source": [
    "data_total_aggregated.head()"
   ]
  },
  {
   "cell_type": "markdown",
   "id": "31bbe3b4-4d4c-49c3-bce1-89073029d80b",
   "metadata": {},
   "source": [
    "Добавим столбец с помесячной выручкой"
   ]
  },
  {
   "cell_type": "code",
   "execution_count": 64,
   "id": "5bf46067-facc-4e9f-81f8-50df95c41580",
   "metadata": {},
   "outputs": [],
   "source": [
    "data_total_aggregated['monthly_revenue'] = data_total_aggregated['start_ride_price']\\\n",
    "                     * data_total_aggregated['count_rides'] + data_total_aggregated['minute_price']\\\n",
    "                     * data_total_aggregated['sum_duration'] + data_total_aggregated['subscription_fee']"
   ]
  },
  {
   "cell_type": "code",
   "execution_count": 65,
   "id": "658de9f2-a52f-4a19-b85e-b749846bc1ab",
   "metadata": {},
   "outputs": [
    {
     "data": {
      "text/html": [
       "<div>\n",
       "<style scoped>\n",
       "    .dataframe tbody tr th:only-of-type {\n",
       "        vertical-align: middle;\n",
       "    }\n",
       "\n",
       "    .dataframe tbody tr th {\n",
       "        vertical-align: top;\n",
       "    }\n",
       "\n",
       "    .dataframe thead th {\n",
       "        text-align: right;\n",
       "    }\n",
       "</style>\n",
       "<table border=\"1\" class=\"dataframe\">\n",
       "  <thead>\n",
       "    <tr style=\"text-align: right;\">\n",
       "      <th></th>\n",
       "      <th></th>\n",
       "      <th>sum_distance</th>\n",
       "      <th>sum_duration</th>\n",
       "      <th>count_rides</th>\n",
       "      <th>subscription_type</th>\n",
       "      <th>minute_price</th>\n",
       "      <th>start_ride_price</th>\n",
       "      <th>subscription_fee</th>\n",
       "      <th>monthly_revenue</th>\n",
       "    </tr>\n",
       "    <tr>\n",
       "      <th>user_id</th>\n",
       "      <th>month</th>\n",
       "      <th></th>\n",
       "      <th></th>\n",
       "      <th></th>\n",
       "      <th></th>\n",
       "      <th></th>\n",
       "      <th></th>\n",
       "      <th></th>\n",
       "      <th></th>\n",
       "    </tr>\n",
       "  </thead>\n",
       "  <tbody>\n",
       "    <tr>\n",
       "      <th rowspan=\"5\" valign=\"top\">1</th>\n",
       "      <th>1</th>\n",
       "      <td>7027.511294</td>\n",
       "      <td>42.0</td>\n",
       "      <td>2</td>\n",
       "      <td>ultra</td>\n",
       "      <td>6</td>\n",
       "      <td>0</td>\n",
       "      <td>199</td>\n",
       "      <td>451.0</td>\n",
       "    </tr>\n",
       "    <tr>\n",
       "      <th>4</th>\n",
       "      <td>754.159807</td>\n",
       "      <td>7.0</td>\n",
       "      <td>1</td>\n",
       "      <td>ultra</td>\n",
       "      <td>6</td>\n",
       "      <td>0</td>\n",
       "      <td>199</td>\n",
       "      <td>241.0</td>\n",
       "    </tr>\n",
       "    <tr>\n",
       "      <th>8</th>\n",
       "      <td>6723.470560</td>\n",
       "      <td>46.0</td>\n",
       "      <td>2</td>\n",
       "      <td>ultra</td>\n",
       "      <td>6</td>\n",
       "      <td>0</td>\n",
       "      <td>199</td>\n",
       "      <td>475.0</td>\n",
       "    </tr>\n",
       "    <tr>\n",
       "      <th>10</th>\n",
       "      <td>5809.911100</td>\n",
       "      <td>32.0</td>\n",
       "      <td>2</td>\n",
       "      <td>ultra</td>\n",
       "      <td>6</td>\n",
       "      <td>0</td>\n",
       "      <td>199</td>\n",
       "      <td>391.0</td>\n",
       "    </tr>\n",
       "    <tr>\n",
       "      <th>11</th>\n",
       "      <td>7003.499363</td>\n",
       "      <td>56.0</td>\n",
       "      <td>3</td>\n",
       "      <td>ultra</td>\n",
       "      <td>6</td>\n",
       "      <td>0</td>\n",
       "      <td>199</td>\n",
       "      <td>535.0</td>\n",
       "    </tr>\n",
       "  </tbody>\n",
       "</table>\n",
       "</div>"
      ],
      "text/plain": [
       "               sum_distance  sum_duration  count_rides subscription_type  \\\n",
       "user_id month                                                              \n",
       "1       1       7027.511294          42.0            2             ultra   \n",
       "        4        754.159807           7.0            1             ultra   \n",
       "        8       6723.470560          46.0            2             ultra   \n",
       "        10      5809.911100          32.0            2             ultra   \n",
       "        11      7003.499363          56.0            3             ultra   \n",
       "\n",
       "               minute_price  start_ride_price  subscription_fee  \\\n",
       "user_id month                                                     \n",
       "1       1                 6                 0               199   \n",
       "        4                 6                 0               199   \n",
       "        8                 6                 0               199   \n",
       "        10                6                 0               199   \n",
       "        11                6                 0               199   \n",
       "\n",
       "               monthly_revenue  \n",
       "user_id month                   \n",
       "1       1                451.0  \n",
       "        4                241.0  \n",
       "        8                475.0  \n",
       "        10               391.0  \n",
       "        11               535.0  "
      ]
     },
     "execution_count": 65,
     "metadata": {},
     "output_type": "execute_result"
    }
   ],
   "source": [
    "data_total_aggregated.head()"
   ]
  },
  {
   "cell_type": "markdown",
   "id": "6b04f9dd-e3e4-4a04-adb7-cd9a001f1867",
   "metadata": {},
   "source": [
    "В данной части работы мы создали датафрейм с агрегированными данными о поездках, нашли суммарное расстояние, количество поездок и суммарное время для каждого пользователя за каждый месяц, и в итоге выявляли выручку от всех пользователей."
   ]
  },
  {
   "cell_type": "markdown",
   "id": "e9036908-5188-438e-bea8-9034bf58bce0",
   "metadata": {},
   "source": [
    "## Шаг 6. Проверка гипотез"
   ]
  },
  {
   "cell_type": "markdown",
   "id": "50a7c73c-fc28-4c5e-83b5-53df9d07e125",
   "metadata": {},
   "source": [
    "**6.1**"
   ]
  },
  {
   "cell_type": "markdown",
   "id": "5d05381f-40a7-425a-a179-8db27f5c8b17",
   "metadata": {},
   "source": [
    "Cуществует время на поездки групп пользователей: с платной подпиской (sub) и без подписки (nosub). Проверим гипотезу о том, что пользователи с подпиской тратят больше времени на поездки. Нулевая гипотеза: средние значения времени пользователей из двух групп равны. Альтернативная гипотеза: среднее значение времени пользователей с подпиской больше, чем среднее значение времени пользователей без подписки"
   ]
  },
  {
   "cell_type": "code",
   "execution_count": 66,
   "id": "3c88a6cf-6b55-4671-983c-8219bb29b926",
   "metadata": {},
   "outputs": [
    {
     "name": "stdout",
     "output_type": "stream",
     "text": [
      "p-value: 4.704468074453899e-28\n",
      "Отвергаем нулевую гипотезу\n"
     ]
    }
   ],
   "source": [
    "# задаём уровень значимости\n",
    "# если p-value окажется меньше него, отвергнем гипотезу\n",
    "alpha = 0.05\n",
    "\n",
    "# время первой группы пользователей (с подпиской)\n",
    "sub = data_users_sub['duration'] \n",
    "\n",
    "# время второй группы пользователей (без подписки)\n",
    "nosub = data_users_nosub['duration'] \n",
    "\n",
    "# проводим ttest для двух выборок, в качестве альтернативной используем одностороннюю гипотезу «больше»\n",
    "results = st.ttest_ind(sub, nosub, alternative='greater')\n",
    "\n",
    "print(f'p-value: {results.pvalue}')\n",
    "\n",
    "# проверяем p-value\n",
    "if results.pvalue < alpha:\n",
    "    print('Отвергаем нулевую гипотезу')\n",
    "else:\n",
    "    print('Нет оснований отвергнуть нулевую гипотезу')"
   ]
  },
  {
   "cell_type": "markdown",
   "id": "4fcf1e8c-3109-4198-a1a6-26de4306ac33",
   "metadata": {},
   "source": [
    "Выведем средние значения продолжительности поездок для пользователей с подпиской и без нее"
   ]
  },
  {
   "cell_type": "code",
   "execution_count": 67,
   "id": "cc44bbe5-d3c3-4191-88a1-b5622c13d91b",
   "metadata": {},
   "outputs": [
    {
     "name": "stdout",
     "output_type": "stream",
     "text": [
      "Средняя продолжительность поездок пользователей с подпиской 18.54198516280583\n",
      "Средняя продолжительность поездок пользователей без подпиской 17.530771268800226\n"
     ]
    }
   ],
   "source": [
    "print('Средняя продолжительность поездок пользователей с подпиской',data_users_sub['duration'].mean())\n",
    "print('Средняя продолжительность поездок пользователей без подпиской',data_users_nosub['duration'].mean())"
   ]
  },
  {
   "cell_type": "markdown",
   "id": "e6cebee1-cf37-4f77-ad24-fbcc14c94bbc",
   "metadata": {},
   "source": [
    "Полученное значение p-value меньше заданного уровня значимости и стремится к 0, поэтому можно отвергнуть нулевую гипотезу. Есть основания говорить, что пользователи с подпиской тратят больше времени на поездки."
   ]
  },
  {
   "cell_type": "markdown",
   "id": "01454e1d-2a0e-454e-af44-c9e36c6da5e8",
   "metadata": {},
   "source": [
    "**6.2**"
   ]
  },
  {
   "cell_type": "markdown",
   "id": "0c62c246-3017-40e7-a651-8d31fa399fac",
   "metadata": {},
   "source": [
    "В данной задаче нам нужно определить, можно ли сказать, что среднее расстояние, которое проезжают пользователи с подпиской за одну поездку, не превышает 3130 метров? В связи с этим формулируем гипотезы. Нулевая гипотеза: расстояние одной поездки на самокате равно 3130 метров. Альтернативная гипотеза же заключается в том, что среднее расстояние, которое проезжают пользователи с подпиской за одну поездку больше 3130 метров."
   ]
  },
  {
   "cell_type": "code",
   "execution_count": 68,
   "id": "3ecdf72b-a236-4b77-aaf9-dd3a017e07f5",
   "metadata": {},
   "outputs": [
    {
     "name": "stdout",
     "output_type": "stream",
     "text": [
      "p-значение: 0.9195368847849785\n",
      "Не отвергаем нулевую гипотезу\n"
     ]
    }
   ],
   "source": [
    "distance_sub = data_users_sub['distance'] \n",
    "distance_value = 3130\n",
    "\n",
    "alpha = 0.05 # уровень статистической значимости\n",
    "\n",
    "results = st.ttest_1samp(\n",
    "    distance_sub, \n",
    "    distance_value,\n",
    "      alternative='greater')\n",
    "\n",
    "print('p-значение:', results.pvalue)\n",
    "\n",
    "if (results.pvalue < alpha):\n",
    "    print('Отвергаем нулевую гипотезу')\n",
    "else:\n",
    "    print('Не отвергаем нулевую гипотезу') "
   ]
  },
  {
   "cell_type": "markdown",
   "id": "36f2df92-eb96-44c2-8dd9-ba64e24ab3ce",
   "metadata": {},
   "source": [
    "Т.к. значение p-value больше уровня значимости, то нулевая гипотеза не отвергается. Из этого следует, что расстояние значимо не превышает 3130 метров, и находится близко к этому значению."
   ]
  },
  {
   "cell_type": "markdown",
   "id": "7466c041-12b2-477d-884d-8c9904138e89",
   "metadata": {},
   "source": [
    "**6.3**"
   ]
  },
  {
   "cell_type": "markdown",
   "id": "8f51a77c-c8b7-48ba-9d58-f3a051242b64",
   "metadata": {},
   "source": [
    "Проверим гипотезу о том, будет ли помесячная выручка от пользователей с подпиской по месяцам выше, чем выручка от пользователей без подписки. Нулевая гипотеза: средние значения помесячной выручки пользователей из двух групп равны. Альтернативная гипотеза: среднее значение помесячной выручки пользователей с подпиской больше, чем среднее значение помесячной выручки пользователей без подписки"
   ]
  },
  {
   "cell_type": "code",
   "execution_count": 69,
   "id": "afd7266f-8d38-429c-b218-9215fb5b4b92",
   "metadata": {},
   "outputs": [],
   "source": [
    "data_total_aggregated_sub = data_total_aggregated.query('subscription_type==\"ultra\"')\n",
    "data_total_aggregated_nosub = data_total_aggregated.query('subscription_type==\"free\"')"
   ]
  },
  {
   "cell_type": "code",
   "execution_count": 70,
   "id": "b298efeb-23ce-494d-8a36-884b87cd7991",
   "metadata": {},
   "outputs": [
    {
     "name": "stdout",
     "output_type": "stream",
     "text": [
      "p-value: 2.0314113674863288e-30\n",
      "Отвергаем нулевую гипотезу\n"
     ]
    }
   ],
   "source": [
    "# задаём уровень значимости\n",
    "# если p-value окажется меньше него, отвергнем гипотезу\n",
    "alpha = 0.05\n",
    "\n",
    "# помесячная выручка первой группы пользователей (с подпиской)\n",
    "sub_monthly_revenue = data_total_aggregated_sub['monthly_revenue'] \n",
    "\n",
    "# помесячная выручка второй группы пользователей (без подписки)\n",
    "nosub_monthly_revenue = data_total_aggregated_nosub['monthly_revenue']  \n",
    "\n",
    "# проводим ttest для двух выборок, в качестве альтернативной используем одностороннюю гипотезу «больше»\n",
    "results = st.ttest_ind(sub_monthly_revenue, nosub_monthly_revenue, alternative='greater')\n",
    "\n",
    "print(f'p-value: {results.pvalue}')\n",
    "\n",
    "# проверяем p-value\n",
    "if results.pvalue < alpha:\n",
    "    print('Отвергаем нулевую гипотезу')\n",
    "else:\n",
    "    print('Нет оснований отвергнуть нулевую гипотезу')"
   ]
  },
  {
   "cell_type": "code",
   "execution_count": 71,
   "id": "3e044d42-1a95-4436-b9fd-b8f6a55a5237",
   "metadata": {},
   "outputs": [
    {
     "name": "stdout",
     "output_type": "stream",
     "text": [
      "Среднее значение выручки пользователей с подпиской 362.7921906022502\n",
      "Среднее значение выручки пользователей без подпиской 329.3326437121324\n"
     ]
    }
   ],
   "source": [
    "print('Среднее значение выручки пользователей с подпиской',data_total_aggregated_sub['monthly_revenue'].mean())\n",
    "print('Среднее значение выручки пользователей без подпиской',data_total_aggregated_nosub['monthly_revenue'].mean())"
   ]
  },
  {
   "cell_type": "markdown",
   "id": "578e5782-dea2-4bdd-8910-f2b70990fab1",
   "metadata": {},
   "source": [
    "Полученное значение p-value меньше заданного уровня значимости и стремится к 0, поэтому можно отвергнуть нулевую гипотезу. Существует большая вероятность, что помесячная выручка от пользователей с подпиской значительно больше, чем от пользователей без подписки. Это также подтверждается выведенными средними значениями каждой категории."
   ]
  },
  {
   "cell_type": "markdown",
   "id": "eedaacd9-b98a-4316-8b29-2f2ea857da0b",
   "metadata": {},
   "source": [
    "**6.4**"
   ]
  },
  {
   "cell_type": "markdown",
   "id": "a0e5834c-531a-4d7f-8ac2-3a31c5335717",
   "metadata": {},
   "source": [
    "В данной задаче, нам нужно определить повлияет ли обновление сервера, с которыми взаимодействует мобильное приложение, на изменение количества обращений в техподдержку.\n",
    "\n",
    "В данном тесте для проверки гипотезы необходимо использовать 'Гипотезу о равенстве средних для зависимых (парных) выборок'. Как мы видим из задания нам нужно проверить нулевую гипотезу а именно, равно ли среднее количество обращений до обновления сервера и после него. Альтеранативная гипотеза же, что среднее количество обращений изменится. Выборки в этом случае будут зависимыми, или парными.\n",
    "\n",
    "Чтобы проверить гипотезу о равенстве среднего генеральной совокупности для зависимых (парных) выборок, нам необходимо применим метод scipy.stats.ttest_rel( ) для проведения t-теста парных выборок. Ему передаем два параметра: набор данных до обновления и после него.\n",
    "\n",
    "Если окажется что значение p-value будет меньше заданного уровня значимости, то мы отвергаем нулевую гипотезу о равенстве обращений в техподдержку до и после обновления. Это означает, что из-за обновления сервера количество обращений в техподдержку значительно изменилось. Если же окажется, что значение p-value будет больше заданного уровня значимости, то нулевую гипотезу мы не отвергаем и после обновления количество обращений в поддержку не поменялось."
   ]
  },
  {
   "cell_type": "markdown",
   "id": "73609fd3-51f2-477c-846b-09a4abf2e846",
   "metadata": {},
   "source": [
    "## Шаг 7. Общий вывод"
   ]
  },
  {
   "cell_type": "markdown",
   "id": "20bca540-97ce-46cb-95c2-7b0ad4ac40b8",
   "metadata": {},
   "source": [
    "В данной работе мы рассматривали архив данных популярного сервиса аренды самокатов GoFast. Нам передали данные за 2021 год о некоторых пользователях из нескольких городов, а также об их поездках. Нашей задачей было проанализировать исходные данные и проверить некоторые гипотезы, которые могут помочь бизнесу по аренде самокатов вырасти.  \n",
    "  \n",
    "Сначала, мы изучили общую информацию трех различных датасетов и выполнили предобработку данных. Сервисом, чтобы совершать поездки по городу, можно пользовататься без подписки и с подпиской. У данных категорий различный тариф. После изучения мы увидели, что в данных отсутвуют пропуски и не было необходимости в их обработке или замене. Вдобавок определили, что в данных присутствуют дубликаты и аномалии и впоследствии преобразовали их или же удалили, т.к. они не оказывали сильного влияния на иследование. Добавили несколько столбцов а также преобразовали тип данных в интересующем нас столбце с датой поездки.  \n",
    "  \n",
    "Далее нашей задачей было описать и визуализировать общую информацию о пользователях и поездках, такую как:  \n",
    "- частота встречаемости городов;\n",
    "- соотношение пользователей с подпиской и без подписки;\n",
    "- возраст пользователей;\n",
    "- расстояние, которое пользователь преодолел за одну поездку;\n",
    "- продолжительность поездок.\n",
    "\n",
    "После проведения исследовательского анализа данных мы выявили, что самокатами, как средство передвижения используют в 8 городах примерно в равной мере, но больше всего любителей самокатов в Пятигорске (219 пользователей), а меньше всего в Москве (168 пользователей). Людей, оформивших подписку в мобильном приложении GoFast меньше, чем людей катающихся без нее. Отношение 45.6% к 54.4% соответсвенно от общего числа. Возраст же различный и варьируется от 12 до 43 лет. Но все же подавляющее число молодых людей, в возрасте от 22 до 28, больше пользуются самокатами как свое средство передвижения. Пик составляют пользователи 25-и лет (145 человек). Люди использую самокаты как на маленькие расстояния так и на большие аж до 7 км. Также мы заметили на гистограмме расстояния два пика. Скорее всего у нас есть 2 сегмента пользователей. Те, кто используют самокат как транспорт, например от дома до метро или от дома до работы (то есть из точки А в точку Б, которые находятся друг от друга на большом расстоянии) и те, кто катаются на самокатах в виде развлечения или же до ближайшего магазина около дома (то есть расстояния при этом  незначительные). Продолжительность поездок же составляет от 2 до 40 минут, но большинство людей совершают поездки  от 13 до 21 минуты.\n",
    "\n",
    "После нашей задачей было объедините все данные о пользователях, поездках и подписках в один датафрейм, создать ещё датафреймы c данными о пользователях без подписки и с ней, визуализировать информацию о расстоянии и времени поездок для пользователей обеих категорий, и главное подсчитать выручку, для того чтобы определить являются ли пользователи с подпиской более выгодными для компании или же подписка никак не влияет.\n",
    "\n",
    "Как оказалось, люди без подписки совершали поездки намного чаще, чем с ней. Также из построенных нами гистограмм видно, что пользователи без подписки хоть и катаются на самокатах на более длительные дистанции, но также у них есть бОльшая доля людей склонных к поездкам и на маленькие расстояния, нежели у пользователей с подпиской. Но в среднем, обе категории людей, совершают поездки приблизительно на расстояние 3.100 метров. Также, у обоих катагорий пользователей примерно одинаковая средняя продолжительность поездки 17-18 минут.\n",
    "\n",
    "Далее мы создали датафрейм с агрегированными данными о поездках, нашли суммарное расстояние, количество поездок и суммарное время для каждого пользователя за каждый месяц, и в итоге выявляли выручку от всех пользователей, воспользовавшись информацией об условиях оплаты для подписчиков и тех, у кого нет подписки.\n",
    "\n",
    "Конечно же, мы ответили на гипотезы поставленные перед нами:\n",
    "1. В первой гипотезе нам нужно было определить, тратят ли пользователи с подпиской больше времени на поездки? Как оказалось, после проверки гипотезы у нас есть все основания говорить, что пользователи с подпиской тратят больше времени на поездки (что также подтверждается выведенными средними значения продолжительности поездок для пользователей с подпиской и без нее).\n",
    "2. Во второй гипотезе мы должны были убедиться, можно ли сказать, что среднее расстояние, которое проезжают пользователи с подпиской за одну поездку, не превышает 3130 метров? Как мы выяснили, расстояние значимо не превышает 3130 метров, и находится близко к этому значению.\n",
    "3. В третьей гипотезе мы рассуждали над тем, что будет ли помесячная выручка от пользователей с подпиской по месяцам выше, чем выручка от пользователей без подписки. И после всех вычислений мы пришли к выводу, что помесячная выручка от пользователей с подпиской значительно больше, чем от пользователей без подписки (это также подтверждается выведенными средними значениями каждой категории).\n",
    "4. В четвертой гипотезе нам был задан вопрос, какой тест вам понадобился бы для проверки гипотезы о том, что после обновления сервера технической командой, количество обращений в техподдержку значимо снизится. Мы определили, что данные выборки зависимые. И в связи с этим следует, что необходимо использовать метод ttest_rel( ) из библиотеки scipy.stats для проведения t-теста парных выборок.   \n",
    "   \n",
    "В итоге, после построения всех графиков, изучения получившихся данных и ответа на поставленные нам гипотезы мы можем сделать вывод, что пользователи с подпиской являются более выгодными для компании нежели пользователи без нее.   \n",
    "Хоть и обе группы людей тратят примерно одинаковое время на совершение поездок, но все же люди с подпиской тратят немного больше времени (18.54 минуты в противовес 17.53), что конечно же сказывается на выручке, полученной от них, т.к. выручка напрямую зависит от времени использования самоката. Также, хоть и обе категории людей проезжают примерно одинаковое среднее расстояние, но у пользователей с подпиской не такой большой разброс значений в пройденном расстоянии и среднее этих значений значимо не превышает 3130 метров (что является оптимальным с точки зрения износа самоката). Также необдуманные или маленькие по дальности расстояния чаще совершаются людьми без подписки.\n",
    "Ну и конечно в итоге у нас получилось , что среднее значение выручки полученной от пользователей с подпиской больше, нежели без подписки. И значит увеличение числа людей, оформляющих подписку перед поездкой на самокате, принесет компании больше прибыли.\n",
    "\n",
    "В дальнейшем, я бы посоветовала отобрать категории городов, где прибыль больше, а где меньше, чем в других и обратить внимание на города с меньшей прибылью. Выявить факторы, которые могут влиять на меньшую популярность самокатов в этих городах и попытаться ее увеличить. Также можно добавить категории поездок, например такие как 'на работу', 'прогулка', 'до метро' и т.д. Это даст нам более понятную картину, в каких целях люди чаще всего используют самокаты, и покажет нам катеории людей, которые катаются на далекие и на маленькие расстояния. В добавок, можно посмотреть какой возраст людей приносит больше прибыли а какой меньше, и попытаться привлечь к прогулкам на самокате больше людей из той категории, которые меньше. В будущем также можно проследить, как сезон года влияет на использование самокатов и на выручку компании."
   ]
  },
  {
   "cell_type": "code",
   "execution_count": null,
   "id": "a19a78bc-bbc1-4fd5-a9c6-ffc3abfc9842",
   "metadata": {},
   "outputs": [],
   "source": []
  }
 ],
 "metadata": {
  "kernelspec": {
   "display_name": "Python 3 (ipykernel)",
   "language": "python",
   "name": "python3"
  },
  "language_info": {
   "codemirror_mode": {
    "name": "ipython",
    "version": 3
   },
   "file_extension": ".py",
   "mimetype": "text/x-python",
   "name": "python",
   "nbconvert_exporter": "python",
   "pygments_lexer": "ipython3",
   "version": "3.11.7"
  }
 },
 "nbformat": 4,
 "nbformat_minor": 5
}
